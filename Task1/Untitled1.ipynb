{
  "nbformat": 4,
  "nbformat_minor": 0,
  "metadata": {
    "colab": {
      "provenance": []
    },
    "kernelspec": {
      "name": "python3",
      "display_name": "Python 3"
    },
    "language_info": {
      "name": "python"
    }
  },
  "cells": [
    {
      "cell_type": "code",
      "execution_count": null,
      "metadata": {
        "id": "xEQmq5U2ou7r"
      },
      "outputs": [],
      "source": [
        "import pandas as pd\n",
        "import numpy as np"
      ]
    },
    {
      "cell_type": "code",
      "source": [
        "from google.colab import drive\n",
        "drive.mount('/content/drive')\n"
      ],
      "metadata": {
        "colab": {
          "base_uri": "https://localhost:8080/"
        },
        "id": "ja50tiLJqOAA",
        "outputId": "20ee3966-a661-4cb8-d126-7059a1f33af7"
      },
      "execution_count": null,
      "outputs": [
        {
          "output_type": "stream",
          "name": "stdout",
          "text": [
            "Drive already mounted at /content/drive; to attempt to forcibly remount, call drive.mount(\"/content/drive\", force_remount=True).\n"
          ]
        }
      ]
    },
    {
      "cell_type": "code",
      "source": [
        "file_path = '/content/drive/My Drive/Copy of train.csv'\n",
        "\n",
        "df = pd.read_csv(file_path)\n",
        "\n",
        "\n",
        "print(df.head())"
      ],
      "metadata": {
        "colab": {
          "base_uri": "https://localhost:8080/"
        },
        "id": "Lhy3fnldtCyn",
        "outputId": "5c8e450a-a321-418f-94fd-6cbbb48708dc"
      },
      "execution_count": null,
      "outputs": [
        {
          "output_type": "stream",
          "name": "stdout",
          "text": [
            "       Time        F1        F2        F3        F4        F5        F6  \\\n",
            "0   51803.0  1.133835 -0.667209  0.258635  0.470179 -0.935900 -0.302215   \n",
            "1   73472.0 -1.130695  0.812982  0.892485 -0.552766  1.834398  4.246646   \n",
            "2  155577.0  2.045388  0.003926 -1.198560  1.596251  0.500370  0.213221   \n",
            "3  154621.0 -0.689977  0.906410 -1.304054 -2.154322  4.003081  2.890035   \n",
            "4  134928.0  0.873930 -2.379076 -1.465831  0.527825 -0.778962  0.288092   \n",
            "\n",
            "         F7        F8        F9  ...       F22       F23       F24       F25  \\\n",
            "0 -0.454738  0.065285 -0.967113  ... -0.599348 -0.104886 -0.096113  0.408226   \n",
            "1 -0.567269  1.318548  0.117874  ... -0.176423 -0.334663  0.998892  0.452230   \n",
            "2 -0.096227 -0.075300 -0.828483  ...  0.649778 -0.055347 -0.876479 -0.139110   \n",
            "3  1.535151  0.439834 -1.131134  ... -0.129991 -0.550813  0.651976  1.130701   \n",
            "4  0.189899 -0.143854  0.998534  ...  0.157962 -0.415068  0.123369 -0.451026   \n",
            "\n",
            "        F26       F27       F28  PowerUsage  Class      ID  \n",
            "0 -0.327570  0.012450  0.027796      100.00      0   65919  \n",
            "1 -0.412572 -0.437357 -0.220802        9.99      0  114416  \n",
            "2  2.526769 -0.205892 -0.104809       12.74      0  251943  \n",
            "3  0.645979 -0.251915 -0.184929       39.80      0  249883  \n",
            "4  0.594766 -0.157082  0.059854      628.50      0  203703  \n",
            "\n",
            "[5 rows x 32 columns]\n"
          ]
        }
      ]
    },
    {
      "cell_type": "code",
      "source": [
        "print(\"Shape:\", df.shape)\n",
        "print(\"Columns:\", df.columns)\n",
        "print(df.info())\n",
        "print(df['Class'].value_counts())"
      ],
      "metadata": {
        "colab": {
          "base_uri": "https://localhost:8080/"
        },
        "id": "vSp7RNAXu6Jc",
        "outputId": "ab412acd-297d-4544-a0a8-f8986bf98611"
      },
      "execution_count": null,
      "outputs": [
        {
          "output_type": "stream",
          "name": "stdout",
          "text": [
            "Shape: (227846, 32)\n",
            "Columns: Index(['Time', 'F1', 'F2', 'F3', 'F4', 'F5', 'F6', 'F7', 'F8', 'F9', 'F10',\n",
            "       'F11', 'F12', 'F13', 'F14', 'F15', 'F16', 'F17', 'F18', 'F19', 'F20',\n",
            "       'F21', 'F22', 'F23', 'F24', 'F25', 'F26', 'F27', 'F28', 'PowerUsage',\n",
            "       'Class', 'ID'],\n",
            "      dtype='object')\n",
            "<class 'pandas.core.frame.DataFrame'>\n",
            "RangeIndex: 227846 entries, 0 to 227845\n",
            "Data columns (total 32 columns):\n",
            " #   Column      Non-Null Count   Dtype  \n",
            "---  ------      --------------   -----  \n",
            " 0   Time        227846 non-null  float64\n",
            " 1   F1          227846 non-null  float64\n",
            " 2   F2          227846 non-null  float64\n",
            " 3   F3          227846 non-null  float64\n",
            " 4   F4          227846 non-null  float64\n",
            " 5   F5          227846 non-null  float64\n",
            " 6   F6          227846 non-null  float64\n",
            " 7   F7          227846 non-null  float64\n",
            " 8   F8          227846 non-null  float64\n",
            " 9   F9          227846 non-null  float64\n",
            " 10  F10         227846 non-null  float64\n",
            " 11  F11         227846 non-null  float64\n",
            " 12  F12         227846 non-null  float64\n",
            " 13  F13         227846 non-null  float64\n",
            " 14  F14         227846 non-null  float64\n",
            " 15  F15         227846 non-null  float64\n",
            " 16  F16         227846 non-null  float64\n",
            " 17  F17         227846 non-null  float64\n",
            " 18  F18         227846 non-null  float64\n",
            " 19  F19         227846 non-null  float64\n",
            " 20  F20         227846 non-null  float64\n",
            " 21  F21         227846 non-null  float64\n",
            " 22  F22         227846 non-null  float64\n",
            " 23  F23         227846 non-null  float64\n",
            " 24  F24         227846 non-null  float64\n",
            " 25  F25         227846 non-null  float64\n",
            " 26  F26         227846 non-null  float64\n",
            " 27  F27         227846 non-null  float64\n",
            " 28  F28         227846 non-null  float64\n",
            " 29  PowerUsage  227846 non-null  float64\n",
            " 30  Class       227846 non-null  int64  \n",
            " 31  ID          227846 non-null  int64  \n",
            "dtypes: float64(30), int64(2)\n",
            "memory usage: 55.6 MB\n",
            "None\n",
            "Class\n",
            "0    227450\n",
            "1       396\n",
            "Name: count, dtype: int64\n"
          ]
        }
      ]
    },
    {
      "cell_type": "code",
      "source": [
        "from imblearn.over_sampling import SMOTE\n",
        "X = df.drop(['Class', 'ID'], axis=1)\n",
        "y = df['Class']\n",
        "smote = SMOTE(random_state=42)\n",
        "X_resampled, y_resampled = smote.fit_resample(X, y)\n",
        "df_resampled = pd.DataFrame(X_resampled, columns=X.columns)\n",
        "df_resampled['Class'] = y_resampled\n",
        "print(df_resampled['Class'].value_counts())"
      ],
      "metadata": {
        "colab": {
          "base_uri": "https://localhost:8080/"
        },
        "id": "3FtTvi_Uvtnk",
        "outputId": "0a69c266-bbc7-4f44-f8a9-a7479b7499bc"
      },
      "execution_count": null,
      "outputs": [
        {
          "output_type": "stream",
          "name": "stdout",
          "text": [
            "Class\n",
            "0    227450\n",
            "1    227450\n",
            "Name: count, dtype: int64\n"
          ]
        }
      ]
    },
    {
      "cell_type": "code",
      "source": [
        "print(df.isnull().sum())\n"
      ],
      "metadata": {
        "colab": {
          "base_uri": "https://localhost:8080/"
        },
        "id": "v4tdVZHWxEjX",
        "outputId": "e19cc450-2539-4d85-bce9-cd09d79b3a7f"
      },
      "execution_count": null,
      "outputs": [
        {
          "output_type": "stream",
          "name": "stdout",
          "text": [
            "Time          0\n",
            "F1            0\n",
            "F2            0\n",
            "F3            0\n",
            "F4            0\n",
            "F5            0\n",
            "F6            0\n",
            "F7            0\n",
            "F8            0\n",
            "F9            0\n",
            "F10           0\n",
            "F11           0\n",
            "F12           0\n",
            "F13           0\n",
            "F14           0\n",
            "F15           0\n",
            "F16           0\n",
            "F17           0\n",
            "F18           0\n",
            "F19           0\n",
            "F20           0\n",
            "F21           0\n",
            "F22           0\n",
            "F23           0\n",
            "F24           0\n",
            "F25           0\n",
            "F26           0\n",
            "F27           0\n",
            "F28           0\n",
            "PowerUsage    0\n",
            "Class         0\n",
            "ID            0\n",
            "dtype: int64\n"
          ]
        }
      ]
    },
    {
      "cell_type": "code",
      "source": [
        "from sklearn.preprocessing import MinMaxScaler\n",
        "scaler = MinMaxScaler()\n",
        "features = df_resampled.drop(columns=['Class'])\n",
        "scaled_features = scaler.fit_transform(features)\n",
        "scaled_df = pd.DataFrame(scaled_features, columns=features.columns)\n",
        "scaled_df['Class'] = df_resampled['Class'].values\n",
        "\n",
        "print(scaled_df.head())"
      ],
      "metadata": {
        "colab": {
          "base_uri": "https://localhost:8080/"
        },
        "id": "-spvyNrNxVGF",
        "outputId": "c817303d-325e-49a4-d6b8-3ca6afee0471"
      },
      "execution_count": null,
      "outputs": [
        {
          "output_type": "stream",
          "name": "stdout",
          "text": [
            "       Time        F1        F2        F3        F4        F5        F6  \\\n",
            "0  0.299800  0.977556  0.760218  0.924503  0.274719  0.759416  0.259981   \n",
            "1  0.425205  0.939085  0.775837  0.936565  0.229049  0.778065  0.305716   \n",
            "2  0.900372  0.993042  0.767300  0.896775  0.324993  0.769085  0.265164   \n",
            "3  0.894839  0.946572  0.776822  0.894767  0.157547  0.792665  0.292076   \n",
            "4  0.780869  0.973141  0.742156  0.891689  0.277293  0.760472  0.265916   \n",
            "\n",
            "         F7        F8        F9  ...       F21       F22       F23       F24  \\\n",
            "0  0.262585  0.717919  0.523229  ...  0.451681  0.535565  0.663876  0.368280   \n",
            "1  0.261900  0.735646  0.568765  ...  0.456105  0.557484  0.660464  0.516066   \n",
            "2  0.264769  0.715930  0.529047  ...  0.460849  0.600303  0.664612  0.262959   \n",
            "3  0.274708  0.723217  0.516345  ...  0.456581  0.559890  0.657254  0.469245   \n",
            "4  0.266512  0.714960  0.605726  ...  0.466969  0.574814  0.659269  0.397902   \n",
            "\n",
            "        F25       F26       F27       F28  PowerUsage  Class  \n",
            "0  0.600821  0.367942  0.238697  0.313688    0.003892      0  \n",
            "1  0.603291  0.353769  0.227860  0.308643    0.000389      0  \n",
            "2  0.570098  0.843857  0.233436  0.310997    0.000496      0  \n",
            "3  0.641376  0.530266  0.232328  0.309371    0.001549      0  \n",
            "4  0.552589  0.521727  0.234612  0.314338    0.024464      0  \n",
            "\n",
            "[5 rows x 31 columns]\n"
          ]
        }
      ]
    },
    {
      "cell_type": "code",
      "source": [
        "from sklearn.model_selection import train_test_split\n",
        "from sklearn.ensemble import RandomForestClassifier\n",
        "from sklearn.metrics import classification_report, f1_score\n",
        "X_resampled=scaled_features\n",
        "Y_final=scaled_df['Class']\n",
        "X_train, X_test, y_train, y_test = train_test_split(X_resampled,Y_final , test_size=0.2, random_state=42)"
      ],
      "metadata": {
        "id": "k5wdBVJa0Csf"
      },
      "execution_count": null,
      "outputs": []
    },
    {
      "cell_type": "code",
      "source": [
        "rf = RandomForestClassifier(n_estimators=100, class_weight='balanced', random_state=42)\n",
        "rf.fit(X_train, y_train)\n",
        "y_pred = rf.predict(X_test)\n",
        "print(\"F1 Score:\", f1_score(y_test, y_pred))\n",
        "print(classification_report(y_test, y_pred))"
      ],
      "metadata": {
        "colab": {
          "base_uri": "https://localhost:8080/"
        },
        "id": "ytlfnnGU1ElK",
        "outputId": "05f819ab-bd32-47bb-e391-31a72d933a67"
      },
      "execution_count": null,
      "outputs": [
        {
          "output_type": "stream",
          "name": "stdout",
          "text": [
            "F1 Score: 0.9999014141591176\n",
            "              precision    recall  f1-score   support\n",
            "\n",
            "           0       1.00      1.00      1.00     45339\n",
            "           1       1.00      1.00      1.00     45641\n",
            "\n",
            "    accuracy                           1.00     90980\n",
            "   macro avg       1.00      1.00      1.00     90980\n",
            "weighted avg       1.00      1.00      1.00     90980\n",
            "\n"
          ]
        }
      ]
    },
    {
      "cell_type": "code",
      "source": [
        "file_path = '/content/drive/My Drive/Copy of test_final.csv'\n",
        "\n",
        "test_df = pd.read_csv(file_path)\n",
        "\n",
        "\n",
        "\n",
        "\n",
        "test_scaled = scaler.transform(test_df.drop(columns=['ID']))\n",
        "predictions = rf.predict(test_scaled)\n",
        "print(pd.Series(predictions).value_counts())\n",
        "submission = pd.DataFrame({\n",
        "    'ID': test_df['ID'],\n",
        "    'Class': predictions\n",
        "})\n",
        "submission.to_csv('predictions2B.csv', index=False)"
      ],
      "metadata": {
        "colab": {
          "base_uri": "https://localhost:8080/"
        },
        "id": "wWVWN5oh-EAU",
        "outputId": "36684e8d-e84d-4c0f-fef3-3883e8cca8a0"
      },
      "execution_count": 26,
      "outputs": [
        {
          "output_type": "stream",
          "name": "stdout",
          "text": [
            "0    56863\n",
            "1       98\n",
            "Name: count, dtype: int64\n"
          ]
        }
      ]
    },
    {
      "cell_type": "code",
      "source": [
        "import joblib\n",
        "\n",
        "joblib.dump(rf, 'random_forest_model.pkl')\n",
        "joblib.dump(scaler, 'minmax_scaler.pkl')\n"
      ],
      "metadata": {
        "colab": {
          "base_uri": "https://localhost:8080/"
        },
        "id": "9HjBjUxf_Thk",
        "outputId": "3b1d403f-48a1-4475-9917-931de3aa3cbd"
      },
      "execution_count": 27,
      "outputs": [
        {
          "output_type": "execute_result",
          "data": {
            "text/plain": [
              "['minmax_scaler.pkl']"
            ]
          },
          "metadata": {},
          "execution_count": 27
        }
      ]
    }
  ]
}